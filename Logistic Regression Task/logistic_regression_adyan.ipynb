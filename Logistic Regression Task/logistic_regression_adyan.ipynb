{
 "cells": [
  {
   "cell_type": "code",
   "execution_count": 66,
   "id": "0a6f61e5",
   "metadata": {},
   "outputs": [],
   "source": [
    "import numpy as np\n",
    "import pandas as pd\n",
    "import matplotlib.pyplot as plt\n",
    "import math\n",
    "from statistics import mode\n",
    "\n",
    "data=pd.read_csv('weatherAUS.csv')\n",
    "#Mapping rain values as binary\n",
    "data['RainTomorrow'] = data['RainTomorrow'].map({'Yes': 1, 'No': 0,})\n",
    "data['RainToday'] = data['RainToday'].map({'Yes': 1, 'No': 0,})\n",
    "\n",
    "#Dropping wind direction values\n",
    "data=data.drop(columns=['WindGustDir'])\n",
    "data=data.drop(columns=['WindDir9am'])\n",
    "data=data.drop(columns=['WindDir3pm'])\n",
    "\n",
    "\n",
    "\n",
    "\n",
    "#Filling in null values\n",
    "data.MinTemp=data.MinTemp.fillna(data.MinTemp.median())\n",
    "data.MaxTemp=data.MaxTemp.fillna(data.MaxTemp.median())\n",
    "data.Rainfall=data.Rainfall.fillna(data.Rainfall.median())\n",
    "data.Evaporation=data.Evaporation.fillna(data.Evaporation.median())\n",
    "data.Sunshine=data.Sunshine.fillna(data.Sunshine.median())\n",
    "data.WindGustSpeed=data.WindGustSpeed.fillna(data.WindGustSpeed.median())\n",
    "data.WindSpeed9am=data.WindSpeed9am.fillna(data.WindSpeed9am.median())\n",
    "data.WindSpeed3pm=data.WindSpeed3pm.fillna(data.WindSpeed3pm.median())\n",
    "data.Humidity9am=data.Humidity9am.fillna(data.Humidity9am.median())\n",
    "data.Humidity3pm=data.Humidity3pm.fillna(data.Humidity3pm.median())\n",
    "data.Pressure9am=data.Pressure9am.fillna(data.Pressure9am.median())\n",
    "data.Pressure3pm=data.Pressure3pm.fillna(data.Pressure3pm.median())\n",
    "data.Cloud9am=data.Cloud9am.fillna(data.Cloud9am.median())\n",
    "data.Cloud3pm=data.Cloud3pm.fillna(data.Cloud3pm.median())\n",
    "data.Temp9am=data.Temp9am.fillna(data.Temp9am.median())\n",
    "data.Temp3pm=data.Temp3pm.fillna(data.Temp3pm.median())\n",
    "data.RainToday=data.RainToday.fillna(data.RainToday.median())\n",
    "data.RainTomorrow=data.RainTomorrow.fillna(data.RainTomorrow.median())\n",
    "\n",
    "\n",
    "data[[\"Year\", \"Month\", \"Day\"]] = data[\"Date\"].str.split(\"-\", expand = True)"
   ]
  },
  {
   "cell_type": "code",
   "execution_count": 67,
   "id": "f7376854",
   "metadata": {},
   "outputs": [],
   "source": [
    "X = data.iloc[:,2:19].to_numpy()\n",
    "one=[[1]]\n",
    "count=1\n",
    "for i in range(1, len(data)):\n",
    "    if(data['Location'][i]==data['Location'][i-1]):\n",
    "        one.append([count])\n",
    "    else:\n",
    "        count=count+1\n",
    "        one.append([count])\n",
    "X = np.concatenate((X,one),axis=1)\n",
    "X = np.concatenate((X,data.iloc[:,20:23]),axis=1)\n",
    "one = np.ones([X.shape[0],1])\n",
    "X = np.concatenate((one,X),axis=1)\n",
    "\n",
    "#taking y and theta array\n",
    "y = data.iloc[:,19:20].to_numpy()\n",
    "m = len(y)\n",
    "coef = np.zeros([1,22])\n",
    "\n",
    "X[ :,19:22]=X[ :,19:22].astype(int)\n",
    "X=X.astype(float)\n",
    "X=(X-X.mean())/X.std()\n",
    "\n",
    "#shuffling the order\n",
    "X = np.concatenate((X,y),axis=1)\n",
    "np.random.shuffle(X)  \n",
    "y =(X[ :, 22:23])\n",
    "X = np.delete(X, 22, axis=1)\n",
    "\n",
    "trainx, testx=np.vsplit(X, 2)\n",
    "trainy, testy=np.vsplit(y, 2)\n",
    "m=m/2\n",
    "\n",
    "#hyperparameters\n",
    "alpha=0.01\n",
    "it=200"
   ]
  },
  {
   "cell_type": "code",
   "execution_count": 68,
   "id": "c47ecf1c",
   "metadata": {},
   "outputs": [
    {
     "name": "stdout",
     "output_type": "stream",
     "text": [
      "0.5274908222258629\n"
     ]
    }
   ],
   "source": [
    "def hypo(x,c):\n",
    "    temp = -x @ c.T\n",
    "    return 1/(1+ np.exp(temp))\n",
    "\n",
    "def costfunction(X,y, coef):\n",
    "        return -(1/m)*np.sum(y*np.log(hypo(X,coef)) + (1-y)*np.log(1-hypo(X,coef)))\n",
    "    \n",
    "def descentfunction(X,y,coef, alpha, it):\n",
    "    cost=np.zeros(it)\n",
    "    \n",
    "    for i in range (it):\n",
    "        coef = coef - (alpha/m) * np.sum((hypo(X,coef) - y) * X, axis = 0)\n",
    "        cost[i]=costfunction(X,y, coef)\n",
    "    return coef, cost\n",
    "\n",
    "gradient, cost = descentfunction(trainx,trainy, coef, alpha, it)\n",
    "\n",
    "finalcost = costfunction(testx,testy, gradient)\n",
    "print (finalcost)"
   ]
  },
  {
   "cell_type": "code",
   "execution_count": 69,
   "id": "4c18a6b7",
   "metadata": {},
   "outputs": [
    {
     "data": {
      "text/plain": [
       "Text(0, 0.5, 'Cost')"
      ]
     },
     "execution_count": 69,
     "metadata": {},
     "output_type": "execute_result"
    },
    {
     "data": {
      "image/png": "[encoded data removed]",
      "text/plain": [
       "<Figure size 432x288 with 1 Axes>"
      ]
     },
     "metadata": {
      "needs_background": "light"
     },
     "output_type": "display_data"
    }
   ],
   "source": [
    "fig, ax = plt.subplots()  \n",
    "ax.plot(np.arange(it), cost, 'r')  \n",
    "ax.set_xlabel('Iterations')  \n",
    "ax.set_ylabel('Cost')"
   ]
  },
  {
   "cell_type": "code",
   "execution_count": 70,
   "id": "4e790365",
   "metadata": {},
   "outputs": [
    {
     "name": "stdout",
     "output_type": "stream",
     "text": [
      "Accuracy: 77.90182868142445 %\n"
     ]
    }
   ],
   "source": [
    "#accuracy\n",
    "\n",
    "count = 0;\n",
    "for i in range (72729):\n",
    "    temp = 0.0\n",
    "    if((testx[i,:] @ gradient.T)>0.5):\n",
    "        temp = 1.0\n",
    "    if(temp == testy[i,0]):\n",
    "        count=count+1\n",
    "\n",
    "    \n",
    "accuracy = (count/72730.0)*100\n",
    "print(\"Accuracy:\",accuracy,\"%\")"
   ]
  },
  {
   "cell_type": "code",
   "execution_count": null,
   "id": "48d283a4",
   "metadata": {},
   "outputs": [],
   "source": []
  }
 ],
 "metadata": {
  "kernelspec": {
   "display_name": "Python 3 (ipykernel)",
   "language": "python",
   "name": "python3"
  },
  "language_info": {
   "codemirror_mode": {
    "name": "ipython",
    "version": 3
   },
   "file_extension": ".py",
   "mimetype": "text/x-python",
   "name": "python",
   "nbconvert_exporter": "python",
   "pygments_lexer": "ipython3",
   "version": "3.10.1"
  }
 },
 "nbformat": 4,
 "nbformat_minor": 5
}
