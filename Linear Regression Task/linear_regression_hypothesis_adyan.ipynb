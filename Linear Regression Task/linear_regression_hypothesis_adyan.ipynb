{
 "cells": [
  {
   "cell_type": "code",
   "execution_count": 8,
   "id": "b01e64a2",
   "metadata": {},
   "outputs": [
    {
     "name": "stdout",
     "output_type": "stream",
     "text": [
      "     AGE  FEMALE  LOS  RACE  TOTCHG  APRDRG\n",
      "0     17       1    2   1.0    2660     560\n",
      "1     17       0    2   1.0    1689     753\n",
      "2     17       1    7   1.0   20060     930\n",
      "3     17       1    1   1.0     736     758\n",
      "4     17       1    1   1.0    1194     754\n",
      "..   ...     ...  ...   ...     ...     ...\n",
      "495    0       1    6   1.0    5881     636\n",
      "496    0       1    2   1.0    1171     640\n",
      "497    0       1    2   1.0    1171     640\n",
      "498    0       1    2   1.0    1086     640\n",
      "499    0       0    4   1.0    4931     640\n",
      "\n",
      "[500 rows x 6 columns]\n"
     ]
    }
   ],
   "source": [
    "import numpy as np\n",
    "import pandas as pd\n",
    "import matplotlib.pyplot as plt\n",
    "import math\n",
    "\n",
    "data=pd.read_csv('linear_regression_dataset.csv')\n",
    "print (data)"
   ]
  },
  {
   "cell_type": "code",
   "execution_count": 9,
   "id": "f3edd2bd",
   "metadata": {},
   "outputs": [],
   "source": [
    "medianrace=data.RACE.median()\n",
    "data.RACE=data.RACE.fillna(medianrace)\n",
    "\n",
    "#normalizing\n",
    "data['AGE']=(data['AGE']-data['AGE'].mean())/data['AGE'].std()\n",
    "data['LOS']=(data['LOS']-data['LOS'].mean())/data['LOS'].std()\n",
    "data['TOTCHG']=(data['TOTCHG']-data['TOTCHG'].mean())/data['TOTCHG'].std()\n",
    "data['APRDRG']=(data['APRDRG']-data['APRDRG'].mean())/data['APRDRG'].std()\n",
    "data['RACE']=(data['RACE']-data['RACE'].mean())/data['RACE'].std()"
   ]
  },
  {
   "cell_type": "code",
   "execution_count": 10,
   "id": "624e0d32",
   "metadata": {},
   "outputs": [],
   "source": [
    "X = data.iloc[:,0:5].to_numpy()\n",
    "#adding ones\n",
    "one = np.ones([X.shape[0],1])\n",
    "X = np.concatenate((one,X),axis=1)\n",
    "\n",
    "#taking y and coeffients array\n",
    "y = data.iloc[:,5:6].to_numpy()\n",
    "m = len(y)\n",
    "coef = np.zeros([1,6])\n",
    "#shuffle dataset\n",
    "X = np.concatenate((X,y),axis=1)\n",
    "np.random.shuffle(X)  \n",
    "y =(X[ :, 6:7])\n",
    "X = np.delete(X, 6, axis=1)\n",
    "#split dataset\n",
    "trainx, testx=np.vsplit(X, 2)\n",
    "trainy, testy=np.vsplit(y, 2)\n",
    "m=m/2\n",
    "\n",
    "#learning rate and iterations\n",
    "alpha=0.1\n",
    "it=1000\n"
   ]
  },
  {
   "cell_type": "code",
   "execution_count": 11,
   "id": "2968bf6b",
   "metadata": {},
   "outputs": [
    {
     "name": "stdout",
     "output_type": "stream",
     "text": [
      "0.34954258930306553\n"
     ]
    }
   ],
   "source": [
    "#cost function\n",
    "def costfunction(X,y, coef):\n",
    "    tobesummed = (((X @ coef.T)-y) ** 2)/(2 * m)\n",
    "    return np.sum(tobesummed)\n",
    "\n",
    "#gradient descent function\n",
    "def descentfunction(X,y,coef, alpha, it):\n",
    "    cost=np.zeros(it)\n",
    "    \n",
    "    for i in range (it):\n",
    "        coef=coef - (alpha/m) * np.sum((X @coef.T - y) * X, axis=0)\n",
    "        cost[i]=costfunction(X,y, coef)\n",
    "    return coef, cost\n",
    "\n",
    "\n",
    "line, cost = descentfunction(trainx,trainy, coef, alpha, it)\n",
    "\n",
    "finalcost = costfunction(testx,testy, line)\n",
    "print (finalcost)"
   ]
  },
  {
   "cell_type": "code",
   "execution_count": 12,
   "id": "647dc1bf",
   "metadata": {},
   "outputs": [
    {
     "data": {
      "text/plain": [
       "Text(0, 0.5, 'Cost')"
      ]
     },
     "execution_count": 12,
     "metadata": {},
     "output_type": "execute_result"
    },
    {
     "data": {
      "image/png": "[encoded data removed]",
      "text/plain": [
       "<Figure size 432x288 with 1 Axes>"
      ]
     },
     "metadata": {
      "needs_background": "light"
     },
     "output_type": "display_data"
    }
   ],
   "source": [
    "#plot the cost\n",
    "fig, ax = plt.subplots()  \n",
    "ax.plot(np.arange(it), cost, 'r')  \n",
    "ax.set_xlabel('Iterations')  \n",
    "ax.set_ylabel('Cost')  "
   ]
  },
  {
   "cell_type": "code",
   "execution_count": null,
   "id": "dd03432f",
   "metadata": {},
   "outputs": [],
   "source": []
  }
 ],
 "metadata": {
  "kernelspec": {
   "display_name": "Python 3 (ipykernel)",
   "language": "python",
   "name": "python3"
  },
  "language_info": {
   "codemirror_mode": {
    "name": "ipython",
    "version": 3
   },
   "file_extension": ".py",
   "mimetype": "text/x-python",
   "name": "python",
   "nbconvert_exporter": "python",
   "pygments_lexer": "ipython3",
   "version": "3.10.1"
  }
 },
 "nbformat": 4,
 "nbformat_minor": 5
}
