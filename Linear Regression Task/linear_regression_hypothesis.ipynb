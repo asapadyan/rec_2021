{
 "cells": [
  {
   "cell_type": "code",
   "execution_count": 120,
   "id": "6e78716b",
   "metadata": {},
   "outputs": [],
   "source": [
    "import numpy as np\n",
    "import pandas as pd\n",
    "import matplotlib.pyplot as plt\n",
    "\n",
    "data=pd.read_csv('linear_regression_dataset.csv')"
   ]
  },
  {
   "cell_type": "code",
   "execution_count": 121,
   "id": "c8d589e4",
   "metadata": {},
   "outputs": [
    {
     "name": "stdout",
     "output_type": "stream",
     "text": [
      "          AGE    FEMALE       LOS      RACE    TOTCHG    APRDRG\n",
      "0    1.714374  0.975304 -0.246173 -0.151835 -0.029418 -0.316068\n",
      "1    1.714374 -1.023270 -0.246173 -0.151835 -0.279134  0.766280\n",
      "2    1.714374  0.975304  1.240380 -0.151835  4.445422  1.758899\n",
      "3    1.714374  0.975304 -0.543484 -0.151835 -0.524222  0.794320\n",
      "4    1.714374  0.975304 -0.543484 -0.151835 -0.406436  0.771888\n",
      "..        ...       ...       ...       ...       ...       ...\n",
      "495 -0.731854  0.975304  0.943069 -0.151835  0.798942  0.110142\n",
      "496 -0.731854  0.975304 -0.246173 -0.151835 -0.412351  0.132574\n",
      "497 -0.731854  0.975304 -0.246173 -0.151835 -0.412351  0.132574\n",
      "498 -0.731854  0.975304 -0.246173 -0.151835 -0.434211  0.132574\n",
      "499 -0.731854 -1.023270  0.348448 -0.151835  0.554626  0.132574\n",
      "\n",
      "[500 rows x 6 columns]\n"
     ]
    }
   ],
   "source": [
    "data=(data-data.mean())/data.std()\n",
    "print (data)"
   ]
  },
  {
   "cell_type": "code",
   "execution_count": 122,
   "id": "f4db841f",
   "metadata": {},
   "outputs": [
    {
     "name": "stdout",
     "output_type": "stream",
     "text": [
      "[[ 1.          1.71437426  0.97530444 -0.24617312 -0.0294177 ]\n",
      " [ 1.          1.71437426 -1.02327023 -0.24617312 -0.27913433]\n",
      " [ 1.          1.71437426  0.97530444  1.24037955  4.44542209]\n",
      " ...\n",
      " [ 1.         -0.73185391  0.97530444 -0.24617312 -0.41235083]\n",
      " [ 1.         -0.73185391  0.97530444 -0.24617312 -0.43421068]\n",
      " [ 1.         -0.73185391 -1.02327023  0.34844795  0.55462605]]\n"
     ]
    }
   ],
   "source": [
    "#handling matrices\n",
    "\n",
    "#removing race\n",
    "X = data.iloc[:,0:3].to_numpy()\n",
    "one = data.iloc[:,4:5].to_numpy()\n",
    "X = np.concatenate((X,one),axis=1)\n",
    "\n",
    "#adding ones\n",
    "one = np.ones([X.shape[0],1])\n",
    "X = np.concatenate((one,X),axis=1)\n",
    "#taking y and coeffients arrat\n",
    "y = data.iloc[:,5:6].to_numpy()\n",
    "m = len(y)\n",
    "coef = np.zeros([1,5])\n",
    "\n",
    "print (X)\n",
    "#learning rate and iterations\n",
    "alpha=0.01\n",
    "it=1000"
   ]
  },
  {
   "cell_type": "code",
   "execution_count": 123,
   "id": "50631b75",
   "metadata": {},
   "outputs": [
    {
     "name": "stdout",
     "output_type": "stream",
     "text": [
      "[[-6.25277607e-17  2.07608894e-01  1.58787050e-01  3.61433609e-01\n",
      "  -5.67209251e-01]]\n",
      "0.3665924559608362\n"
     ]
    }
   ],
   "source": [
    "#cost function\n",
    "def calccost(X,y,coef):\n",
    "    temp = ((X @ coef.T)-y)** 2\n",
    "    return np.sum(temp)/(2 * m)\n",
    "#gradient descent\n",
    "def gradientdescent(X,y,coef,it,alpha):\n",
    "    cost = np.zeros(it)\n",
    "    for i in range(it):\n",
    "        coef = coef - (alpha/m) * np.sum(X * (X @ coef.T - y), axis=0)\n",
    "        cost[i] = calccost(X, y, coef)\n",
    "    \n",
    "    return coef,cost\n",
    "\n",
    "#running the gd and cost function\n",
    "finalcoef,cost = gradientdescent(X,y,coef,it,alpha)\n",
    "print(finalcoef)\n",
    "finalcost = calccost(X,y,finalcoef)\n",
    "print(finalCost)"
   ]
  },
  {
   "cell_type": "code",
   "execution_count": 124,
   "id": "8a95a1a3",
   "metadata": {},
   "outputs": [
    {
     "data": {
      "text/plain": [
       "Text(0, 0.5, 'Cost')"
      ]
     },
     "execution_count": 124,
     "metadata": {},
     "output_type": "execute_result"
    },
    {
     "data": {
      "image/png": "[encoded data removed]",
      "text/plain": [
       "<Figure size 432x288 with 1 Axes>"
      ]
     },
     "metadata": {
      "needs_background": "light"
     },
     "output_type": "display_data"
    }
   ],
   "source": [
    "#plotting cost\n",
    "fig, ax = plt.subplots()  \n",
    "ax.plot(np.arange(it), cost, 'r')  \n",
    "ax.set_xlabel('Iterations')  \n",
    "ax.set_ylabel('Cost')  "
   ]
  },
  {
   "cell_type": "code",
   "execution_count": 105,
   "id": "5b41664c",
   "metadata": {},
   "outputs": [
    {
     "name": "stdout",
     "output_type": "stream",
     "text": [
      "Datatype: int32\n"
     ]
    },
    {
     "ename": "ValueError",
     "evalue": "invalid literal for int() with base 10: 'b10000000000000000000000000000000'",
     "output_type": "error",
     "traceback": [
      "\u001b[1;31m---------------------------------------------------------------------------\u001b[0m",
      "\u001b[1;31mValueError\u001b[0m                                Traceback (most recent call last)",
      "\u001b[1;32m~\\AppData\\Local\\Temp/ipykernel_15820/637826097.py\u001b[0m in \u001b[0;36m<module>\u001b[1;34m\u001b[0m\n\u001b[0;32m      6\u001b[0m \u001b[0mprint\u001b[0m\u001b[1;33m(\u001b[0m\u001b[1;34m'Datatype:'\u001b[0m\u001b[1;33m,\u001b[0m \u001b[0mrace\u001b[0m\u001b[1;33m[\u001b[0m\u001b[1;36m4\u001b[0m\u001b[1;33m]\u001b[0m\u001b[1;33m.\u001b[0m\u001b[0mdtype\u001b[0m\u001b[1;33m)\u001b[0m\u001b[1;33m\u001b[0m\u001b[1;33m\u001b[0m\u001b[0m\n\u001b[0;32m      7\u001b[0m \u001b[1;32mfor\u001b[0m \u001b[0mi\u001b[0m \u001b[1;32min\u001b[0m \u001b[0mrange\u001b[0m\u001b[1;33m(\u001b[0m\u001b[0mlen\u001b[0m\u001b[1;33m(\u001b[0m\u001b[0mrace\u001b[0m\u001b[1;33m)\u001b[0m\u001b[1;33m)\u001b[0m\u001b[1;33m:\u001b[0m\u001b[1;33m\u001b[0m\u001b[1;33m\u001b[0m\u001b[0m\n\u001b[1;32m----> 8\u001b[1;33m     \u001b[0mrace\u001b[0m\u001b[1;33m[\u001b[0m\u001b[0mi\u001b[0m\u001b[1;33m]\u001b[0m\u001b[1;33m[\u001b[0m\u001b[1;36m0\u001b[0m\u001b[1;33m]\u001b[0m\u001b[1;33m=\u001b[0m\u001b[0mdec_to_bin\u001b[0m\u001b[1;33m(\u001b[0m\u001b[0mrace\u001b[0m\u001b[1;33m[\u001b[0m\u001b[0mi\u001b[0m\u001b[1;33m]\u001b[0m\u001b[1;33m[\u001b[0m\u001b[1;36m0\u001b[0m\u001b[1;33m]\u001b[0m\u001b[1;33m)\u001b[0m\u001b[1;33m\u001b[0m\u001b[1;33m\u001b[0m\u001b[0m\n\u001b[0m\u001b[0;32m      9\u001b[0m \u001b[1;33m\u001b[0m\u001b[0m\n\u001b[0;32m     10\u001b[0m \u001b[0mprint\u001b[0m \u001b[1;33m(\u001b[0m\u001b[0mrace\u001b[0m\u001b[1;33m)\u001b[0m\u001b[1;33m\u001b[0m\u001b[1;33m\u001b[0m\u001b[0m\n",
      "\u001b[1;32m~\\AppData\\Local\\Temp/ipykernel_15820/637826097.py\u001b[0m in \u001b[0;36mdec_to_bin\u001b[1;34m(x)\u001b[0m\n\u001b[0;32m      1\u001b[0m \u001b[1;32mdef\u001b[0m \u001b[0mdec_to_bin\u001b[0m\u001b[1;33m(\u001b[0m\u001b[0mx\u001b[0m\u001b[1;33m)\u001b[0m\u001b[1;33m:\u001b[0m\u001b[1;33m\u001b[0m\u001b[1;33m\u001b[0m\u001b[0m\n\u001b[1;32m----> 2\u001b[1;33m     \u001b[1;32mreturn\u001b[0m \u001b[0mint\u001b[0m\u001b[1;33m(\u001b[0m\u001b[0mbin\u001b[0m\u001b[1;33m(\u001b[0m\u001b[0mx\u001b[0m\u001b[1;33m)\u001b[0m\u001b[1;33m[\u001b[0m\u001b[1;36m2\u001b[0m\u001b[1;33m:\u001b[0m\u001b[1;33m]\u001b[0m\u001b[1;33m)\u001b[0m\u001b[1;33m\u001b[0m\u001b[1;33m\u001b[0m\u001b[0m\n\u001b[0m\u001b[0;32m      3\u001b[0m \u001b[0mrace\u001b[0m\u001b[1;33m=\u001b[0m \u001b[0mdata\u001b[0m\u001b[1;33m.\u001b[0m\u001b[0miloc\u001b[0m\u001b[1;33m[\u001b[0m\u001b[1;33m:\u001b[0m\u001b[1;33m,\u001b[0m\u001b[1;36m3\u001b[0m\u001b[1;33m:\u001b[0m\u001b[1;36m4\u001b[0m\u001b[1;33m]\u001b[0m\u001b[1;33m.\u001b[0m\u001b[0mto_numpy\u001b[0m\u001b[1;33m(\u001b[0m\u001b[1;33m)\u001b[0m\u001b[1;33m\u001b[0m\u001b[1;33m\u001b[0m\u001b[0m\n\u001b[0;32m      4\u001b[0m \u001b[0mrace\u001b[0m\u001b[1;33m=\u001b[0m \u001b[0mrace\u001b[0m\u001b[1;33m.\u001b[0m\u001b[0mastype\u001b[0m\u001b[1;33m(\u001b[0m\u001b[0mint\u001b[0m\u001b[1;33m)\u001b[0m\u001b[1;33m\u001b[0m\u001b[1;33m\u001b[0m\u001b[0m\n\u001b[0;32m      5\u001b[0m \u001b[0mtest\u001b[0m\u001b[1;33m=\u001b[0m\u001b[1;33m[\u001b[0m\u001b[1;36m3\u001b[0m\u001b[1;33m,\u001b[0m\u001b[1;36m5\u001b[0m\u001b[1;33m,\u001b[0m\u001b[1;36m3\u001b[0m\u001b[1;33m]\u001b[0m\u001b[1;33m\u001b[0m\u001b[1;33m\u001b[0m\u001b[0m\n",
      "\u001b[1;31mValueError\u001b[0m: invalid literal for int() with base 10: 'b10000000000000000000000000000000'"
     ]
    }
   ],
   "source": [
    "def dec_to_bin(x):\n",
    "    return int(bin(x)[2:])\n",
    "race= data.iloc[:,3:4].to_numpy()\n",
    "race= race.astype(int)\n",
    "test=[3,5,3]\n",
    "print('Datatype:', race[4].dtype)\n",
    "for i in range(len(race)):\n",
    "    race[i][0]=dec_to_bin(race[i][0])\n",
    "\n",
    "print (race)"
   ]
  }
 ],
 "metadata": {
  "kernelspec": {
   "display_name": "Python 3 (ipykernel)",
   "language": "python",
   "name": "python3"
  },
  "language_info": {
   "codemirror_mode": {
    "name": "ipython",
    "version": 3
   },
   "file_extension": ".py",
   "mimetype": "text/x-python",
   "name": "python",
   "nbconvert_exporter": "python",
   "pygments_lexer": "ipython3",
   "version": "3.10.1"
  }
 },
 "nbformat": 4,
 "nbformat_minor": 5
}
